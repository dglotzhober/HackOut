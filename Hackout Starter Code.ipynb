{
 "cells": [
  {
   "cell_type": "markdown",
   "metadata": {},
   "source": [
    "## Hackout Started Code\n",
    "#### Prepared by Muhammad Ammar for Hackout session on 7/15/2020\n",
    "\n",
    "This Jupyter Notebook contains starter code that can assist you as you work through the questions outlined in the Hackout case. This starter code is a provides a quick overview of some functions and methods that might be useful during your analysis. Note: Not everything discussed in the case is present in the starter code. This code is meant to supplement the knowledge that you have gained throughout the Geekout sessions so far. Please take this starter code as a place to start and dive deeper into your analysis. "
   ]
  },
  {
   "cell_type": "code",
   "execution_count": 2,
   "metadata": {},
   "outputs": [],
   "source": [
    "# import libraries\n",
    "import pandas as pd\n",
    "import numpy as np\n",
    "import os\n",
    "import seaborn as sns\n",
    "import matplotlib.pyplot as plt\n",
    "import datetime "
   ]
  },
  {
   "cell_type": "markdown",
   "metadata": {},
   "source": [
    "### Setting your working directory\n",
    "\n",
    "Don't forget to set your path to where you have the AirBnB dataset saved"
   ]
  },
  {
   "cell_type": "code",
   "execution_count": 3,
   "metadata": {},
   "outputs": [],
   "source": [
    "path = r'C:\\Users\\muammar\\Documents\\Python Curriculum\\Airbnb'\n",
    "os.chdir(path)"
   ]
  },
  {
   "cell_type": "markdown",
   "metadata": {},
   "source": [
    "### Reading and Exploring the Data\n",
    "Remember, we are using a csv file so Pandas can be used to easily import our data into a Pandas DataFrame"
   ]
  },
  {
   "cell_type": "code",
   "execution_count": 4,
   "metadata": {},
   "outputs": [
    {
     "name": "stderr",
     "output_type": "stream",
     "text": [
      "C:\\Users\\muammar\\Anaconda3\\lib\\site-packages\\IPython\\core\\interactiveshell.py:3063: DtypeWarning: Columns (22) have mixed types. Specify dtype option on import or set low_memory=False.\n",
      "  interactivity=interactivity, compiler=compiler, result=result)\n"
     ]
    },
    {
     "data": {
      "text/html": [
       "<div>\n",
       "<style scoped>\n",
       "    .dataframe tbody tr th:only-of-type {\n",
       "        vertical-align: middle;\n",
       "    }\n",
       "\n",
       "    .dataframe tbody tr th {\n",
       "        vertical-align: top;\n",
       "    }\n",
       "\n",
       "    .dataframe thead th {\n",
       "        text-align: right;\n",
       "    }\n",
       "</style>\n",
       "<table border=\"1\" class=\"dataframe\">\n",
       "  <thead>\n",
       "    <tr style=\"text-align: right;\">\n",
       "      <th></th>\n",
       "      <th>accommodates</th>\n",
       "      <th>bathrooms</th>\n",
       "      <th>bed_type</th>\n",
       "      <th>bedrooms</th>\n",
       "      <th>beds</th>\n",
       "      <th>cancellation_policy</th>\n",
       "      <th>city</th>\n",
       "      <th>cleaning_fee</th>\n",
       "      <th>first_review</th>\n",
       "      <th>host_has_profile_pic</th>\n",
       "      <th>...</th>\n",
       "      <th>instant_bookable</th>\n",
       "      <th>last_review</th>\n",
       "      <th>latitude</th>\n",
       "      <th>longitude</th>\n",
       "      <th>neighbourhood</th>\n",
       "      <th>number_of_reviews</th>\n",
       "      <th>property_type</th>\n",
       "      <th>review_scores_rating</th>\n",
       "      <th>room_type</th>\n",
       "      <th>zipcode</th>\n",
       "    </tr>\n",
       "  </thead>\n",
       "  <tbody>\n",
       "    <tr>\n",
       "      <th>0</th>\n",
       "      <td>1</td>\n",
       "      <td>1.0</td>\n",
       "      <td>Real Bed</td>\n",
       "      <td>1</td>\n",
       "      <td>1</td>\n",
       "      <td>flexible</td>\n",
       "      <td>SF</td>\n",
       "      <td>True</td>\n",
       "      <td>8/15/2016</td>\n",
       "      <td>t</td>\n",
       "      <td>...</td>\n",
       "      <td>t</td>\n",
       "      <td>1/18/2017</td>\n",
       "      <td>37.773742</td>\n",
       "      <td>-122.391503</td>\n",
       "      <td>Mission Bay</td>\n",
       "      <td>5</td>\n",
       "      <td>Apartment</td>\n",
       "      <td>95</td>\n",
       "      <td>Private room</td>\n",
       "      <td>95202\\r\\r\\r\\r\\r\\r\\r</td>\n",
       "    </tr>\n",
       "    <tr>\n",
       "      <th>1</th>\n",
       "      <td>1</td>\n",
       "      <td>1.0</td>\n",
       "      <td>Real Bed</td>\n",
       "      <td>1</td>\n",
       "      <td>1</td>\n",
       "      <td>flexible</td>\n",
       "      <td>LA</td>\n",
       "      <td>False</td>\n",
       "      <td>NaN</td>\n",
       "      <td>t</td>\n",
       "      <td>...</td>\n",
       "      <td>f</td>\n",
       "      <td>NaN</td>\n",
       "      <td>34.135680</td>\n",
       "      <td>-118.400691</td>\n",
       "      <td>Studio City</td>\n",
       "      <td>6</td>\n",
       "      <td>House</td>\n",
       "      <td>100</td>\n",
       "      <td>Private room</td>\n",
       "      <td>91604-3646</td>\n",
       "    </tr>\n",
       "    <tr>\n",
       "      <th>2</th>\n",
       "      <td>2</td>\n",
       "      <td>1.0</td>\n",
       "      <td>Real Bed</td>\n",
       "      <td>1</td>\n",
       "      <td>1</td>\n",
       "      <td>moderate</td>\n",
       "      <td>LA</td>\n",
       "      <td>True</td>\n",
       "      <td>11/16/2011</td>\n",
       "      <td>t</td>\n",
       "      <td>...</td>\n",
       "      <td>f</td>\n",
       "      <td>4/8/2017</td>\n",
       "      <td>34.192617</td>\n",
       "      <td>-118.136794</td>\n",
       "      <td>Altadena</td>\n",
       "      <td>136</td>\n",
       "      <td>Apartment</td>\n",
       "      <td>96</td>\n",
       "      <td>Entire home/apt</td>\n",
       "      <td>91001-2243</td>\n",
       "    </tr>\n",
       "    <tr>\n",
       "      <th>3</th>\n",
       "      <td>2</td>\n",
       "      <td>1.0</td>\n",
       "      <td>Real Bed</td>\n",
       "      <td>1</td>\n",
       "      <td>1</td>\n",
       "      <td>flexible</td>\n",
       "      <td>LA</td>\n",
       "      <td>False</td>\n",
       "      <td>NaN</td>\n",
       "      <td>t</td>\n",
       "      <td>...</td>\n",
       "      <td>f</td>\n",
       "      <td>NaN</td>\n",
       "      <td>34.023618</td>\n",
       "      <td>-118.501174</td>\n",
       "      <td>Santa Monica</td>\n",
       "      <td>0</td>\n",
       "      <td>Apartment</td>\n",
       "      <td>96</td>\n",
       "      <td>Private room</td>\n",
       "      <td>90403-2638</td>\n",
       "    </tr>\n",
       "    <tr>\n",
       "      <th>4</th>\n",
       "      <td>2</td>\n",
       "      <td>1.0</td>\n",
       "      <td>Real Bed</td>\n",
       "      <td>1</td>\n",
       "      <td>1</td>\n",
       "      <td>moderate</td>\n",
       "      <td>LA</td>\n",
       "      <td>True</td>\n",
       "      <td>9/6/2010</td>\n",
       "      <td>t</td>\n",
       "      <td>...</td>\n",
       "      <td>f</td>\n",
       "      <td>2/28/2017</td>\n",
       "      <td>34.104213</td>\n",
       "      <td>-118.260040</td>\n",
       "      <td>Silver Lake</td>\n",
       "      <td>16</td>\n",
       "      <td>House</td>\n",
       "      <td>99</td>\n",
       "      <td>Private room</td>\n",
       "      <td>90039-2715</td>\n",
       "    </tr>\n",
       "  </tbody>\n",
       "</table>\n",
       "<p>5 rows × 23 columns</p>\n",
       "</div>"
      ],
      "text/plain": [
       "   accommodates  bathrooms  bed_type  bedrooms  beds cancellation_policy city  \\\n",
       "0             1        1.0  Real Bed         1     1            flexible   SF   \n",
       "1             1        1.0  Real Bed         1     1            flexible   LA   \n",
       "2             2        1.0  Real Bed         1     1            moderate   LA   \n",
       "3             2        1.0  Real Bed         1     1            flexible   LA   \n",
       "4             2        1.0  Real Bed         1     1            moderate   LA   \n",
       "\n",
       "   cleaning_fee first_review host_has_profile_pic  ... instant_bookable  \\\n",
       "0          True    8/15/2016                    t  ...                t   \n",
       "1         False          NaN                    t  ...                f   \n",
       "2          True   11/16/2011                    t  ...                f   \n",
       "3         False          NaN                    t  ...                f   \n",
       "4          True     9/6/2010                    t  ...                f   \n",
       "\n",
       "   last_review   latitude   longitude neighbourhood  number_of_reviews  \\\n",
       "0    1/18/2017  37.773742 -122.391503   Mission Bay                  5   \n",
       "1          NaN  34.135680 -118.400691   Studio City                  6   \n",
       "2     4/8/2017  34.192617 -118.136794      Altadena                136   \n",
       "3          NaN  34.023618 -118.501174  Santa Monica                  0   \n",
       "4    2/28/2017  34.104213 -118.260040   Silver Lake                 16   \n",
       "\n",
       "   property_type review_scores_rating        room_type              zipcode  \n",
       "0      Apartment                   95     Private room  95202\\r\\r\\r\\r\\r\\r\\r  \n",
       "1          House                  100     Private room           91604-3646  \n",
       "2      Apartment                   96  Entire home/apt           91001-2243  \n",
       "3      Apartment                   96     Private room           90403-2638  \n",
       "4          House                   99     Private room           90039-2715  \n",
       "\n",
       "[5 rows x 23 columns]"
      ]
     },
     "execution_count": 4,
     "metadata": {},
     "output_type": "execute_result"
    }
   ],
   "source": [
    "airbnb = pd.read_csv('airbnb.csv')\n",
    "\n",
    "# Lets take a quick look at the data to see what the first five rows look like\n",
    "\n",
    "airbnb.head()"
   ]
  },
  {
   "cell_type": "markdown",
   "metadata": {},
   "source": [
    "It's always a good idea to look at what data types and what columns are present in your data. Sometimes you might find that some columns can be formatted differently to make them more useful!"
   ]
  },
  {
   "cell_type": "code",
   "execution_count": 5,
   "metadata": {},
   "outputs": [
    {
     "data": {
      "text/plain": [
       "Index(['accommodates', 'bathrooms', 'bed_type', 'bedrooms', 'beds',\n",
       "       'cancellation_policy', 'city', 'cleaning_fee', 'first_review',\n",
       "       'host_has_profile_pic', 'host_identity_verified', 'host_response_rate',\n",
       "       'host_since', 'instant_bookable', 'last_review', 'latitude',\n",
       "       'longitude', 'neighbourhood', 'number_of_reviews', 'property_type',\n",
       "       'review_scores_rating', 'room_type', 'zipcode'],\n",
       "      dtype='object')"
      ]
     },
     "execution_count": 5,
     "metadata": {},
     "output_type": "execute_result"
    }
   ],
   "source": [
    "# Let's take a look at the columns present in the data\n",
    "\n",
    "airbnb.columns"
   ]
  },
  {
   "cell_type": "code",
   "execution_count": 52,
   "metadata": {},
   "outputs": [
    {
     "data": {
      "text/plain": [
       "accommodates                       int64\n",
       "bathrooms                        float64\n",
       "bed_type                          object\n",
       "bedrooms                           int64\n",
       "beds                               int64\n",
       "cancellation_policy               object\n",
       "city                              object\n",
       "cleaning_fee                        bool\n",
       "first_review                      object\n",
       "host_has_profile_pic              object\n",
       "host_identity_verified            object\n",
       "host_response_rate                 int64\n",
       "host_since                datetime64[ns]\n",
       "instant_bookable                  object\n",
       "last_review                       object\n",
       "latitude                         float64\n",
       "longitude                        float64\n",
       "neighbourhood                     object\n",
       "number_of_reviews                  int64\n",
       "property_type                     object\n",
       "review_scores_rating               int64\n",
       "room_type                         object\n",
       "zipcode                           object\n",
       "dtype: object"
      ]
     },
     "execution_count": 52,
     "metadata": {},
     "output_type": "execute_result"
    }
   ],
   "source": [
    "# It's good practice to check the data types present in the data as well\n",
    "\n",
    "airbnb.dtypes"
   ]
  },
  {
   "cell_type": "code",
   "execution_count": null,
   "metadata": {},
   "outputs": [],
   "source": []
  },
  {
   "cell_type": "markdown",
   "metadata": {},
   "source": [
    "### Let's look at some specific functions and ways we can address common questions\n",
    "These functions and packages will be useful for you as you work on the case. The code might directly relate to a question that you're working on or it might give you some idea of what direction to go in."
   ]
  },
  {
   "cell_type": "markdown",
   "metadata": {},
   "source": [
    "np.where is a great way to quickly change values in a column based on a condition. Combining this with our knowledge of how to extract specific columns from dataframes can be a powerful tool!"
   ]
  },
  {
   "cell_type": "code",
   "execution_count": 54,
   "metadata": {},
   "outputs": [
    {
     "name": "stdout",
     "output_type": "stream",
     "text": [
      "0    t\n",
      "1    t\n",
      "2    t\n",
      "3    t\n",
      "4    t\n",
      "Name: host_has_profile_pic, dtype: object\n",
      "0    1\n",
      "1    1\n",
      "2    1\n",
      "3    1\n",
      "4    1\n",
      "Name: host_has_profile_pic, dtype: int32\n"
     ]
    }
   ],
   "source": [
    "# Oops it looks like the 'host_has_profile_pic' column is an object! \n",
    "\n",
    "print(airbnb['host_has_profile_pic'].head())\n",
    "\n",
    "# It might be useful to have it as a binary integer (0,1)\n",
    "\n",
    "airbnb['host_has_profile_pic'] = np.where(airbnb['host_has_profile_pic']=='t',1,0)\n",
    "\n",
    "print(airbnb['host_has_profile_pic'].head())\n"
   ]
  },
  {
   "cell_type": "markdown",
   "metadata": {},
   "source": [
    "Errors can be pretty common for people learning Python as well as people who have been working in Python for a while. Let's see how we handle a common TypeError."
   ]
  },
  {
   "cell_type": "code",
   "execution_count": 55,
   "metadata": {},
   "outputs": [
    {
     "ename": "TypeError",
     "evalue": "unsupported operand type(s) for -: 'str' and 'str'",
     "output_type": "error",
     "traceback": [
      "\u001b[1;31m---------------------------------------------------------------------------\u001b[0m",
      "\u001b[1;31mTypeError\u001b[0m                                 Traceback (most recent call last)",
      "\u001b[1;32m~\\Anaconda3\\lib\\site-packages\\pandas\\core\\ops\\__init__.py\u001b[0m in \u001b[0;36mna_op\u001b[1;34m(x, y)\u001b[0m\n\u001b[0;32m    967\u001b[0m         \u001b[1;32mtry\u001b[0m\u001b[1;33m:\u001b[0m\u001b[1;33m\u001b[0m\u001b[1;33m\u001b[0m\u001b[0m\n\u001b[1;32m--> 968\u001b[1;33m             \u001b[0mresult\u001b[0m \u001b[1;33m=\u001b[0m \u001b[0mexpressions\u001b[0m\u001b[1;33m.\u001b[0m\u001b[0mevaluate\u001b[0m\u001b[1;33m(\u001b[0m\u001b[0mop\u001b[0m\u001b[1;33m,\u001b[0m \u001b[0mstr_rep\u001b[0m\u001b[1;33m,\u001b[0m \u001b[0mx\u001b[0m\u001b[1;33m,\u001b[0m \u001b[0my\u001b[0m\u001b[1;33m,\u001b[0m \u001b[1;33m**\u001b[0m\u001b[0meval_kwargs\u001b[0m\u001b[1;33m)\u001b[0m\u001b[1;33m\u001b[0m\u001b[1;33m\u001b[0m\u001b[0m\n\u001b[0m\u001b[0;32m    969\u001b[0m         \u001b[1;32mexcept\u001b[0m \u001b[0mTypeError\u001b[0m\u001b[1;33m:\u001b[0m\u001b[1;33m\u001b[0m\u001b[1;33m\u001b[0m\u001b[0m\n",
      "\u001b[1;32m~\\Anaconda3\\lib\\site-packages\\pandas\\core\\computation\\expressions.py\u001b[0m in \u001b[0;36mevaluate\u001b[1;34m(op, op_str, a, b, use_numexpr, **eval_kwargs)\u001b[0m\n\u001b[0;32m    220\u001b[0m     \u001b[1;32mif\u001b[0m \u001b[0muse_numexpr\u001b[0m\u001b[1;33m:\u001b[0m\u001b[1;33m\u001b[0m\u001b[1;33m\u001b[0m\u001b[0m\n\u001b[1;32m--> 221\u001b[1;33m         \u001b[1;32mreturn\u001b[0m \u001b[0m_evaluate\u001b[0m\u001b[1;33m(\u001b[0m\u001b[0mop\u001b[0m\u001b[1;33m,\u001b[0m \u001b[0mop_str\u001b[0m\u001b[1;33m,\u001b[0m \u001b[0ma\u001b[0m\u001b[1;33m,\u001b[0m \u001b[0mb\u001b[0m\u001b[1;33m,\u001b[0m \u001b[1;33m**\u001b[0m\u001b[0meval_kwargs\u001b[0m\u001b[1;33m)\u001b[0m\u001b[1;33m\u001b[0m\u001b[1;33m\u001b[0m\u001b[0m\n\u001b[0m\u001b[0;32m    222\u001b[0m     \u001b[1;32mreturn\u001b[0m \u001b[0m_evaluate_standard\u001b[0m\u001b[1;33m(\u001b[0m\u001b[0mop\u001b[0m\u001b[1;33m,\u001b[0m \u001b[0mop_str\u001b[0m\u001b[1;33m,\u001b[0m \u001b[0ma\u001b[0m\u001b[1;33m,\u001b[0m \u001b[0mb\u001b[0m\u001b[1;33m)\u001b[0m\u001b[1;33m\u001b[0m\u001b[1;33m\u001b[0m\u001b[0m\n",
      "\u001b[1;32m~\\Anaconda3\\lib\\site-packages\\pandas\\core\\computation\\expressions.py\u001b[0m in \u001b[0;36m_evaluate_numexpr\u001b[1;34m(op, op_str, a, b, truediv, reversed, **eval_kwargs)\u001b[0m\n\u001b[0;32m    126\u001b[0m     \u001b[1;32mif\u001b[0m \u001b[0mresult\u001b[0m \u001b[1;32mis\u001b[0m \u001b[1;32mNone\u001b[0m\u001b[1;33m:\u001b[0m\u001b[1;33m\u001b[0m\u001b[1;33m\u001b[0m\u001b[0m\n\u001b[1;32m--> 127\u001b[1;33m         \u001b[0mresult\u001b[0m \u001b[1;33m=\u001b[0m \u001b[0m_evaluate_standard\u001b[0m\u001b[1;33m(\u001b[0m\u001b[0mop\u001b[0m\u001b[1;33m,\u001b[0m \u001b[0mop_str\u001b[0m\u001b[1;33m,\u001b[0m \u001b[0ma\u001b[0m\u001b[1;33m,\u001b[0m \u001b[0mb\u001b[0m\u001b[1;33m)\u001b[0m\u001b[1;33m\u001b[0m\u001b[1;33m\u001b[0m\u001b[0m\n\u001b[0m\u001b[0;32m    128\u001b[0m \u001b[1;33m\u001b[0m\u001b[0m\n",
      "\u001b[1;32m~\\Anaconda3\\lib\\site-packages\\pandas\\core\\computation\\expressions.py\u001b[0m in \u001b[0;36m_evaluate_standard\u001b[1;34m(op, op_str, a, b, **eval_kwargs)\u001b[0m\n\u001b[0;32m     69\u001b[0m     \u001b[1;32mwith\u001b[0m \u001b[0mnp\u001b[0m\u001b[1;33m.\u001b[0m\u001b[0merrstate\u001b[0m\u001b[1;33m(\u001b[0m\u001b[0mall\u001b[0m\u001b[1;33m=\u001b[0m\u001b[1;34m\"ignore\"\u001b[0m\u001b[1;33m)\u001b[0m\u001b[1;33m:\u001b[0m\u001b[1;33m\u001b[0m\u001b[1;33m\u001b[0m\u001b[0m\n\u001b[1;32m---> 70\u001b[1;33m         \u001b[1;32mreturn\u001b[0m \u001b[0mop\u001b[0m\u001b[1;33m(\u001b[0m\u001b[0ma\u001b[0m\u001b[1;33m,\u001b[0m \u001b[0mb\u001b[0m\u001b[1;33m)\u001b[0m\u001b[1;33m\u001b[0m\u001b[1;33m\u001b[0m\u001b[0m\n\u001b[0m\u001b[0;32m     71\u001b[0m \u001b[1;33m\u001b[0m\u001b[0m\n",
      "\u001b[1;31mTypeError\u001b[0m: unsupported operand type(s) for -: 'str' and 'str'",
      "\nDuring handling of the above exception, another exception occurred:\n",
      "\u001b[1;31mTypeError\u001b[0m                                 Traceback (most recent call last)",
      "\u001b[1;32m<ipython-input-55-81579089671e>\u001b[0m in \u001b[0;36m<module>\u001b[1;34m\u001b[0m\n\u001b[0;32m      1\u001b[0m \u001b[1;31m# Lets see if we can see the difference in days between the first review of a listing and the last review of a listing\u001b[0m\u001b[1;33m\u001b[0m\u001b[1;33m\u001b[0m\u001b[1;33m\u001b[0m\u001b[0m\n\u001b[0;32m      2\u001b[0m \u001b[1;33m\u001b[0m\u001b[0m\n\u001b[1;32m----> 3\u001b[1;33m \u001b[0mairbnb\u001b[0m\u001b[1;33m[\u001b[0m\u001b[1;34m'last_review'\u001b[0m\u001b[1;33m]\u001b[0m\u001b[1;33m-\u001b[0m\u001b[0mairbnb\u001b[0m\u001b[1;33m[\u001b[0m\u001b[1;34m'first_review'\u001b[0m\u001b[1;33m]\u001b[0m\u001b[1;33m\u001b[0m\u001b[1;33m\u001b[0m\u001b[0m\n\u001b[0m\u001b[0;32m      4\u001b[0m \u001b[1;33m\u001b[0m\u001b[0m\n\u001b[0;32m      5\u001b[0m \u001b[1;31m# airbnb['first_review'] = pd.to_datetime(airbnb['first_review'])\u001b[0m\u001b[1;33m\u001b[0m\u001b[1;33m\u001b[0m\u001b[1;33m\u001b[0m\u001b[0m\n",
      "\u001b[1;32m~\\Anaconda3\\lib\\site-packages\\pandas\\core\\ops\\__init__.py\u001b[0m in \u001b[0;36mwrapper\u001b[1;34m(left, right)\u001b[0m\n\u001b[0;32m   1046\u001b[0m \u001b[1;33m\u001b[0m\u001b[0m\n\u001b[0;32m   1047\u001b[0m         \u001b[1;32mwith\u001b[0m \u001b[0mnp\u001b[0m\u001b[1;33m.\u001b[0m\u001b[0merrstate\u001b[0m\u001b[1;33m(\u001b[0m\u001b[0mall\u001b[0m\u001b[1;33m=\u001b[0m\u001b[1;34m\"ignore\"\u001b[0m\u001b[1;33m)\u001b[0m\u001b[1;33m:\u001b[0m\u001b[1;33m\u001b[0m\u001b[1;33m\u001b[0m\u001b[0m\n\u001b[1;32m-> 1048\u001b[1;33m             \u001b[0mresult\u001b[0m \u001b[1;33m=\u001b[0m \u001b[0mna_op\u001b[0m\u001b[1;33m(\u001b[0m\u001b[0mlvalues\u001b[0m\u001b[1;33m,\u001b[0m \u001b[0mrvalues\u001b[0m\u001b[1;33m)\u001b[0m\u001b[1;33m\u001b[0m\u001b[1;33m\u001b[0m\u001b[0m\n\u001b[0m\u001b[0;32m   1049\u001b[0m         return construct_result(\n\u001b[0;32m   1050\u001b[0m             \u001b[0mleft\u001b[0m\u001b[1;33m,\u001b[0m \u001b[0mresult\u001b[0m\u001b[1;33m,\u001b[0m \u001b[0mindex\u001b[0m\u001b[1;33m=\u001b[0m\u001b[0mleft\u001b[0m\u001b[1;33m.\u001b[0m\u001b[0mindex\u001b[0m\u001b[1;33m,\u001b[0m \u001b[0mname\u001b[0m\u001b[1;33m=\u001b[0m\u001b[0mres_name\u001b[0m\u001b[1;33m,\u001b[0m \u001b[0mdtype\u001b[0m\u001b[1;33m=\u001b[0m\u001b[1;32mNone\u001b[0m\u001b[1;33m\u001b[0m\u001b[1;33m\u001b[0m\u001b[0m\n",
      "\u001b[1;32m~\\Anaconda3\\lib\\site-packages\\pandas\\core\\ops\\__init__.py\u001b[0m in \u001b[0;36mna_op\u001b[1;34m(x, y)\u001b[0m\n\u001b[0;32m    968\u001b[0m             \u001b[0mresult\u001b[0m \u001b[1;33m=\u001b[0m \u001b[0mexpressions\u001b[0m\u001b[1;33m.\u001b[0m\u001b[0mevaluate\u001b[0m\u001b[1;33m(\u001b[0m\u001b[0mop\u001b[0m\u001b[1;33m,\u001b[0m \u001b[0mstr_rep\u001b[0m\u001b[1;33m,\u001b[0m \u001b[0mx\u001b[0m\u001b[1;33m,\u001b[0m \u001b[0my\u001b[0m\u001b[1;33m,\u001b[0m \u001b[1;33m**\u001b[0m\u001b[0meval_kwargs\u001b[0m\u001b[1;33m)\u001b[0m\u001b[1;33m\u001b[0m\u001b[1;33m\u001b[0m\u001b[0m\n\u001b[0;32m    969\u001b[0m         \u001b[1;32mexcept\u001b[0m \u001b[0mTypeError\u001b[0m\u001b[1;33m:\u001b[0m\u001b[1;33m\u001b[0m\u001b[1;33m\u001b[0m\u001b[0m\n\u001b[1;32m--> 970\u001b[1;33m             \u001b[0mresult\u001b[0m \u001b[1;33m=\u001b[0m \u001b[0mmasked_arith_op\u001b[0m\u001b[1;33m(\u001b[0m\u001b[0mx\u001b[0m\u001b[1;33m,\u001b[0m \u001b[0my\u001b[0m\u001b[1;33m,\u001b[0m \u001b[0mop\u001b[0m\u001b[1;33m)\u001b[0m\u001b[1;33m\u001b[0m\u001b[1;33m\u001b[0m\u001b[0m\n\u001b[0m\u001b[0;32m    971\u001b[0m \u001b[1;33m\u001b[0m\u001b[0m\n\u001b[0;32m    972\u001b[0m         \u001b[1;32mreturn\u001b[0m \u001b[0mmissing\u001b[0m\u001b[1;33m.\u001b[0m\u001b[0mdispatch_fill_zeros\u001b[0m\u001b[1;33m(\u001b[0m\u001b[0mop\u001b[0m\u001b[1;33m,\u001b[0m \u001b[0mx\u001b[0m\u001b[1;33m,\u001b[0m \u001b[0my\u001b[0m\u001b[1;33m,\u001b[0m \u001b[0mresult\u001b[0m\u001b[1;33m)\u001b[0m\u001b[1;33m\u001b[0m\u001b[1;33m\u001b[0m\u001b[0m\n",
      "\u001b[1;32m~\\Anaconda3\\lib\\site-packages\\pandas\\core\\ops\\__init__.py\u001b[0m in \u001b[0;36mmasked_arith_op\u001b[1;34m(x, y, op)\u001b[0m\n\u001b[0;32m    445\u001b[0m         \u001b[1;32mif\u001b[0m \u001b[0mmask\u001b[0m\u001b[1;33m.\u001b[0m\u001b[0many\u001b[0m\u001b[1;33m(\u001b[0m\u001b[1;33m)\u001b[0m\u001b[1;33m:\u001b[0m\u001b[1;33m\u001b[0m\u001b[1;33m\u001b[0m\u001b[0m\n\u001b[0;32m    446\u001b[0m             \u001b[1;32mwith\u001b[0m \u001b[0mnp\u001b[0m\u001b[1;33m.\u001b[0m\u001b[0merrstate\u001b[0m\u001b[1;33m(\u001b[0m\u001b[0mall\u001b[0m\u001b[1;33m=\u001b[0m\u001b[1;34m\"ignore\"\u001b[0m\u001b[1;33m)\u001b[0m\u001b[1;33m:\u001b[0m\u001b[1;33m\u001b[0m\u001b[1;33m\u001b[0m\u001b[0m\n\u001b[1;32m--> 447\u001b[1;33m                 \u001b[0mresult\u001b[0m\u001b[1;33m[\u001b[0m\u001b[0mmask\u001b[0m\u001b[1;33m]\u001b[0m \u001b[1;33m=\u001b[0m \u001b[0mop\u001b[0m\u001b[1;33m(\u001b[0m\u001b[0mxrav\u001b[0m\u001b[1;33m[\u001b[0m\u001b[0mmask\u001b[0m\u001b[1;33m]\u001b[0m\u001b[1;33m,\u001b[0m \u001b[0mcom\u001b[0m\u001b[1;33m.\u001b[0m\u001b[0mvalues_from_object\u001b[0m\u001b[1;33m(\u001b[0m\u001b[0myrav\u001b[0m\u001b[1;33m[\u001b[0m\u001b[0mmask\u001b[0m\u001b[1;33m]\u001b[0m\u001b[1;33m)\u001b[0m\u001b[1;33m)\u001b[0m\u001b[1;33m\u001b[0m\u001b[1;33m\u001b[0m\u001b[0m\n\u001b[0m\u001b[0;32m    448\u001b[0m \u001b[1;33m\u001b[0m\u001b[0m\n\u001b[0;32m    449\u001b[0m     \u001b[1;32melse\u001b[0m\u001b[1;33m:\u001b[0m\u001b[1;33m\u001b[0m\u001b[1;33m\u001b[0m\u001b[0m\n",
      "\u001b[1;31mTypeError\u001b[0m: unsupported operand type(s) for -: 'str' and 'str'"
     ]
    }
   ],
   "source": [
    "# Lets see if we can see the difference in days between the first review of a listing and the last review of a listing\n",
    "\n",
    "airbnb['last_review']-airbnb['first_review']\n",
    "\n",
    "# OOPS! Looks like we can't subtract values that are string or else we run into a TypeError\n"
   ]
  },
  {
   "cell_type": "code",
   "execution_count": 56,
   "metadata": {},
   "outputs": [
    {
     "data": {
      "text/plain": [
       "0        156 days\n",
       "1             NaT\n",
       "2       1970 days\n",
       "3             NaT\n",
       "4       2367 days\n",
       "           ...   \n",
       "99564         NaT\n",
       "99565         NaT\n",
       "99566         NaT\n",
       "99567         NaT\n",
       "99568    778 days\n",
       "Length: 99569, dtype: timedelta64[ns]"
      ]
     },
     "execution_count": 56,
     "metadata": {},
     "output_type": "execute_result"
    }
   ],
   "source": [
    "# Let's convert these columns to datetime variables first and then try subtracting \n",
    "\n",
    "airbnb['first_review'] = pd.to_datetime(airbnb['first_review'])\n",
    "airbnb['last_review'] = pd.to_datetime(airbnb['last_review'])\n",
    "\n",
    "airbnb['last_review']-airbnb['first_review']\n"
   ]
  },
  {
   "cell_type": "code",
   "execution_count": 62,
   "metadata": {},
   "outputs": [
    {
     "name": "stdout",
     "output_type": "stream",
     "text": [
      "The total number of missing values in the \"days_between_reviews\" column is:  41322\n"
     ]
    }
   ],
   "source": [
    "# There are quite a few missing values\n",
    "# Let's make the difference in days a new column and see how many missing values are in it\n",
    "\n",
    "airbnb['days_between_reviews'] = airbnb['last_review']-airbnb['first_review']\n",
    "\n",
    "print('The total number of missing values in the \"days_between_reviews\" column is: ', airbnb['days_between_reviews'].isnull().sum())"
   ]
  },
  {
   "cell_type": "markdown",
   "metadata": {},
   "source": [
    "mean()\n",
    "min()\n",
    "max()\n",
    "\n",
    "These functions should be known by everyone when analyzing a dataset. They can quickly give a person information about the dataset that might be useful when searching for answers to specific questions"
   ]
  },
  {
   "cell_type": "code",
   "execution_count": 65,
   "metadata": {},
   "outputs": [
    {
     "name": "stdout",
     "output_type": "stream",
     "text": [
      "The average number of reviews  20.88419086261788\n",
      "The minimum number of reviews  0\n",
      "The maximum number of reviews  605\n"
     ]
    }
   ],
   "source": [
    "print('The average number of reviews ', airbnb['number_of_reviews'].mean())\n",
    "print('The minimum number of reviews ', airbnb['number_of_reviews'].min())\n",
    "print('The maximum number of reviews ', airbnb['number_of_reviews'].max())\n"
   ]
  },
  {
   "cell_type": "markdown",
   "metadata": {},
   "source": [
    "#### Graphs\n",
    "\n",
    "Graphs can be incredibly useful when trying to analyze data. Depending on what questions about the data you're trying to answer you will need to use different types of graphs. It's good to continuously reference the documentation for the two most popular graphing libraries in Python, Matplotlib (plt) and Seaborn (sns).\n",
    "\n",
    "Matplotlib: https://matplotlib.org/3.1.0/gallery/index.html \n",
    "\n",
    "Seaborn: https://seaborn.pydata.org/examples/index.html"
   ]
  },
  {
   "cell_type": "code",
   "execution_count": null,
   "metadata": {},
   "outputs": [],
   "source": []
  },
  {
   "cell_type": "code",
   "execution_count": 68,
   "metadata": {},
   "outputs": [
    {
     "data": {
      "text/plain": [
       "<matplotlib.axes._subplots.AxesSubplot at 0x19ca2d2c208>"
      ]
     },
     "execution_count": 68,
     "metadata": {},
     "output_type": "execute_result"
    },
    {
     "data": {
      "image/png": "[encoded data removed]",
      "text/plain": [
       "<Figure size 432x288 with 1 Axes>"
      ]
     },
     "metadata": {
      "needs_background": "light"
     },
     "output_type": "display_data"
    }
   ],
   "source": [
    "# Looking at how many listings are in each city\n",
    "\n",
    "sns.countplot(x='city', data=airbnb)"
   ]
  },
  {
   "cell_type": "code",
   "execution_count": 67,
   "metadata": {},
   "outputs": [
    {
     "data": {
      "text/plain": [
       "<matplotlib.axes._subplots.AxesSubplot at 0x19ca2b3e888>"
      ]
     },
     "execution_count": 67,
     "metadata": {},
     "output_type": "execute_result"
    },
    {
     "data": {
      "image/png": "[encoded data removed]",
      "text/plain": [
       "<Figure size 432x288 with 2 Axes>"
      ]
     },
     "metadata": {
      "needs_background": "light"
     },
     "output_type": "display_data"
    }
   ],
   "source": [
    "# A correlation matrix containing the correlations between all variables in the dataset\n",
    "\n",
    "c = airbnb\n",
    "\n",
    "# Make a correlation matrix calculating correlations between all the variables\n",
    "corr_matrix = c.corr()\n",
    "\n",
    "# Visualize the correlation matrix using a heatmap in Seaborn\n",
    "sns.heatmap(corr_matrix)"
   ]
  },
  {
   "cell_type": "markdown",
   "metadata": {},
   "source": [
    "## Resources\n",
    "\n",
    "It is always important to keep some resources on hand when doing any work in Python. Even the best Python programmers and Data Scientists run into issues from time to time. What matters is how you can deal with the errors and issues when they arise. \n",
    "\n",
    "#### Documentation\n",
    "\n",
    "The first place to start when you are not sure of what package to use or what functions/methods to use from a package/library is the documentation. Popular packages such as Pandas and Numpy are very well maintained and documented, so searching through their documentation almost always yields some valuable results. \n",
    "\n",
    "Pandas: https://pandas.pydata.org/pandas-docs/stable/user_guide/index.html#user-guide\n",
    "\n",
    "Numpy: https://numpy.org/doc/stable/\n",
    "\n",
    "#### Google\n",
    "\n",
    "Google is an amazing resource...if you know what you're searching for. Python is usually very good with its errors, and will try and give you as much information as possible. Sometimes googling the error itself (for example the TypeError we encountered above) might direct you to some great resources like Stack Overflow.\n",
    "\n",
    "Stack Overflow: https://stackoverflow.com/questions/tagged/python\n",
    "\n",
    "You will quickly learn that many of the issues that you encounter while using Python have been encountered before. The best part is that people have found solutions to many of these issues and they are available to you for free on websites like Stack Overflow. "
   ]
  },
  {
   "cell_type": "code",
   "execution_count": null,
   "metadata": {},
   "outputs": [],
   "source": []
  }
 ],
 "metadata": {
  "kernelspec": {
   "display_name": "Python 3",
   "language": "python",
   "name": "python3"
  },
  "language_info": {
   "codemirror_mode": {
    "name": "ipython",
    "version": 3
   },
   "file_extension": ".py",
   "mimetype": "text/x-python",
   "name": "python",
   "nbconvert_exporter": "python",
   "pygments_lexer": "ipython3",
   "version": "3.7.6"
  }
 },
 "nbformat": 4,
 "nbformat_minor": 4
}
